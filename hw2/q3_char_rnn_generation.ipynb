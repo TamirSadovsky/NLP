{
  "nbformat": 4,
  "nbformat_minor": 0,
  "metadata": {
    "anaconda-cloud": {},
    "kernelspec": {
      "display_name": "Python 3",
      "language": "python",
      "name": "python3"
    },
    "language_info": {
      "codemirror_mode": {
        "name": "ipython",
        "version": 3
      },
      "file_extension": ".py",
      "mimetype": "text/x-python",
      "name": "python",
      "nbconvert_exporter": "python",
      "pygments_lexer": "ipython3",
      "version": "3.8.0"
    },
    "pycharm": {
      "stem_cell": {
        "cell_type": "raw",
        "metadata": {
          "collapsed": false
        },
        "source": []
      }
    },
    "colab": {
      "provenance": []
    }
  },
  "cells": [
    {
      "cell_type": "markdown",
      "metadata": {
        "id": "XPKTqQ3W8qLt"
      },
      "source": [
        "To begin copy this notebook to your own drive:\n",
        "\n",
        "![image.png](data:image/png;base64,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)\n",
        "\n",
        "\n",
        "### Submission Instructions:\n",
        "1. **Restart the kernel** (in the menubar, select Runtime$\\rightarrow$Restart runtime)\n",
        "2. **Run all cells** (in the menubar, select Runtime$\\rightarrow$Run All).\n",
        "3. **Download the notebook** (in the menubar, select File$\\rightarrow$Download .ipynb)\n",
        "4. **Upload the downloaded notebook (.ipynb file) to your repository**.\n",
        "\n",
        "Note: To use a GPU, do the following: Runtime$\\rightarrow$Change runtime type$\\rightarrow$ GPU\n",
        "\n",
        "Make sure you fill in any place that says `YOUR CODE HERE`, and that no tests fail.  "
      ]
    },
    {
      "cell_type": "markdown",
      "metadata": {
        "deletable": false,
        "editable": false,
        "nbgrader": {
          "cell_type": "markdown",
          "checksum": "5493400e8b7f9a8e2cde874866d4fa7f",
          "grade": false,
          "grade_id": "cell-3a1bca1dbb7d0069",
          "locked": true,
          "schema_version": 3,
          "solution": false,
          "task": false
        },
        "id": "XvPkt7Zm8qLt"
      },
      "source": [
        "![shakespeare](https://i.imgur.com/81YZuel.jpg)\n",
        "\n",
        "# Generating Shakespeare Using a Character-level Language Model\n",
        "\n",
        "### From Words to Characters\n",
        "In the previous two sections we dealt with word-level language models. But looking again at section 2, there is nothing that constraints us to using _words_ as the basic elemnents in our model. The model we analyzed in section 2 could just as well be character-based - just replace \"word\" with \"character\", and you are good to go. In this notebook we will train a small character-based language model that will help us generate Shakespearean-like (emphasis on the _like_...) texts."
      ]
    },
    {
      "cell_type": "markdown",
      "metadata": {
        "deletable": false,
        "editable": false,
        "nbgrader": {
          "cell_type": "markdown",
          "checksum": "9af7a343d0e3524c3fd846d987d766a8",
          "grade": false,
          "grade_id": "cell-7301754e4d655d01",
          "locked": true,
          "schema_version": 3,
          "solution": false,
          "task": false
        },
        "id": "EvGyr_ux8qLt"
      },
      "source": [
        "### Question 3.a\n",
        "Can you think of an advantage a character-based language model could have over a word-based language model? And what about the other way around: can you think of an advantage a word-based language model could have over a character-based language model? (Add your answer to the final submission pdf).\n",
        "\n",
        "\n",
        "Answer 3.a\n",
        "\n",
        "The main advantage of working with character-level generative models is that the discrete space we’re working with is much smaller - there are about 97 English-language characters in common usage if we include all punctuation marks. By contrast, a vocabulary is many thousands of words. This implies that just storing the word embeddings will require a lot of memory, and including word embeddings in a model adds many, many parameters to the model so the computational cost is much higher on this account than the character-level model. A drawback of character level models is the lack of semantic content of the input, as characters are meaningless. In addition, words that are not a part of the training set can be produced by character-based model. This is an advantage and a disadvantage: while we want to be able to produce words that we had not seen (the training set may not contain all words in the language) , we don’t want to produce invalid words - it might happen in character-based model and not in a word-based model."
      ]
    },
    {
      "cell_type": "markdown",
      "metadata": {
        "deletable": false,
        "editable": false,
        "nbgrader": {
          "cell_type": "markdown",
          "checksum": "d46a8dfd340b8f68e51a041307f7d7d3",
          "grade": false,
          "grade_id": "cell-ebc0d8ae3061c0fc",
          "locked": true,
          "schema_version": 3,
          "solution": false,
          "task": false
        },
        "id": "ghCevRFf8qLt"
      },
      "source": [
        "### Using PyTorch\n",
        "\n",
        "We'll build our language model using PyTorch. PyTorch is a [very popular](https://thegradient.pub/state-of-ml-frameworks-2019-pytorch-dominates-research-tensorflow-dominates-industry/) open-source machine learning (and deep learning) framework developed by Facebook. In short:\n",
        "\n",
        "> Pytorch is a Python-based scientific computing package targeted at two sets of audiences:\n",
        "* A replacement for NumPy to use the power of GPUs\n",
        "* A deep learning research platform that provides maximum flexibility and speed\n",
        "\n",
        "To get familiar with PyTorch, check out this [quick tutorial](https://pytorch.org/tutorials/beginner/blitz/tensor_tutorial.html). In addition, another imporant difference from numpy is that PyTorch can automatically calculate the gradients needed for backpropagation, as explained [here](https://pytorch.org/tutorials/beginner/blitz/autograd_tutorial.html)."
      ]
    },
    {
      "cell_type": "markdown",
      "metadata": {
        "deletable": false,
        "editable": false,
        "nbgrader": {
          "cell_type": "markdown",
          "checksum": "02af8a21a2e8fae58d84f915de5b016d",
          "grade": false,
          "grade_id": "cell-aa2773db1bef7014",
          "locked": true,
          "schema_version": 3,
          "solution": false,
          "task": false
        },
        "id": "MYd79g6k8qLt"
      },
      "source": [
        "### Preparing the Data\n",
        "\n",
        "Our dataset is a plain text file. For simplicity, we turn any potential unicode characters into plain ASCII by using the `unidecode` package."
      ]
    },
    {
      "cell_type": "code",
      "metadata": {
        "colab": {
          "base_uri": "https://localhost:8080/"
        },
        "id": "OT5WdSbsFT1K",
        "outputId": "1131ca88-3b1d-49e9-9e8a-6e8719e7c251"
      },
      "source": [
        "!pip install unidecode"
      ],
      "execution_count": 1,
      "outputs": [
        {
          "output_type": "stream",
          "name": "stdout",
          "text": [
            "Looking in indexes: https://pypi.org/simple, https://us-python.pkg.dev/colab-wheels/public/simple/\n",
            "Requirement already satisfied: unidecode in /usr/local/lib/python3.10/dist-packages (1.3.6)\n"
          ]
        }
      ]
    },
    {
      "cell_type": "code",
      "metadata": {
        "deletable": false,
        "editable": false,
        "nbgrader": {
          "cell_type": "code",
          "checksum": "ef0359e8c08b2057771c115150011e7e",
          "grade": false,
          "grade_id": "cell-cce75419c097f3fd",
          "locked": true,
          "schema_version": 3,
          "solution": false,
          "task": false
        },
        "pycharm": {
          "is_executing": false
        },
        "id": "RYqFoQgV8qLt",
        "colab": {
          "base_uri": "https://localhost:8080/"
        },
        "outputId": "a6d829b4-d58a-462c-80c2-de76b0a9f8ed"
      },
      "source": [
        "import string\n",
        "import random\n",
        "import re\n",
        "import requests\n",
        "import unidecode\n",
        "import tensorflow as tf\n",
        "\n",
        "url = \"https://github.com/tau-nlp-course/NLP_HW2/raw/main/data/shakespeare.txt\"\n",
        "\n",
        "\n",
        "all_characters = string.printable\n",
        "n_characters = len(all_characters)  # our vocabulary size (|V| from the handout)\n",
        "\n",
        "dataset_as_string = unidecode.unidecode(requests.get(url).content.decode())\n",
        "n_chars_in_dataset = len(dataset_as_string)\n",
        "print(f'Total number of characters in our dataset: {n_chars_in_dataset}')"
      ],
      "execution_count": 2,
      "outputs": [
        {
          "output_type": "stream",
          "name": "stdout",
          "text": [
            "Total number of characters in our dataset: 1115394\n"
          ]
        }
      ]
    },
    {
      "cell_type": "markdown",
      "metadata": {
        "deletable": false,
        "editable": false,
        "nbgrader": {
          "cell_type": "markdown",
          "checksum": "06dd2ac91a6296206475c7e330e53e3d",
          "grade": false,
          "grade_id": "cell-d795f907dd7922f3",
          "locked": true,
          "schema_version": 3,
          "solution": false,
          "task": false
        },
        "id": "mIctyT3J8qLu"
      },
      "source": [
        "To make inputs out of this big string of text, we will split it into chunks."
      ]
    },
    {
      "cell_type": "code",
      "metadata": {
        "deletable": false,
        "editable": false,
        "nbgrader": {
          "cell_type": "code",
          "checksum": "61947ad22fb7f16eba246d47ab8cae22",
          "grade": false,
          "grade_id": "cell-379f229536dae19b",
          "locked": true,
          "schema_version": 3,
          "solution": false,
          "task": false
        },
        "pycharm": {
          "is_executing": false
        },
        "id": "eoLs0ivz8qLu",
        "colab": {
          "base_uri": "https://localhost:8080/"
        },
        "outputId": "2059dc13-7be1-40ca-ef7c-7221c334c487"
      },
      "source": [
        "chunk_len = 400\n",
        "\n",
        "def random_chunk():\n",
        "    start_index = random.randint(0, n_chars_in_dataset - chunk_len)\n",
        "    end_index = start_index + chunk_len + 1\n",
        "    return dataset_as_string[start_index:end_index]\n",
        "\n",
        "print(random_chunk())"
      ],
      "execution_count": 3,
      "outputs": [
        {
          "output_type": "stream",
          "name": "stdout",
          "text": [
            ":\n",
            "Very true, and but a month old.\n",
            "\n",
            "DORCAS:\n",
            "Bless me from marrying a usurer!\n",
            "\n",
            "AUTOLYCUS:\n",
            "Here's the midwife's name to't, one Mistress\n",
            "Tale-porter, and five or six honest wives that were\n",
            "present. Why should I carry lies abroad?\n",
            "\n",
            "MOPSA:\n",
            "Pray you now, buy it.\n",
            "\n",
            "Clown:\n",
            "Come on, lay it by: and let's first see moe\n",
            "ballads; we'll buy the other things anon.\n",
            "\n",
            "AUTOLYCUS:\n",
            "Here's another ballad of a fish, that a\n"
          ]
        }
      ]
    },
    {
      "cell_type": "markdown",
      "metadata": {
        "deletable": false,
        "editable": false,
        "nbgrader": {
          "cell_type": "markdown",
          "checksum": "ba5d4900ff254fa335fe935962878c8d",
          "grade": false,
          "grade_id": "cell-fcbb2d73f4e442fb",
          "locked": true,
          "schema_version": 3,
          "solution": false,
          "task": false
        },
        "id": "ho8WlUcV8qLv"
      },
      "source": [
        "### Building Our Model\n",
        "\n",
        "Our model consists of three main components:\n",
        "\n",
        "1. [**Embedding**](https://pytorch.org/docs/stable/nn.html#embedding). A mapping between characters and their learned representations (\"word vectors\") \\[correspoding to ${\\boldsymbol L}$ in terms of the handout\\]\n",
        "2. [**GRU**](https://pytorch.org/docs/stable/nn.html#gru). \\[correspoding to the computation of ${\\boldsymbol h}^{(t)}$ in terms of the handout\\]\n",
        "3. **Output Layer**. A feed-forward neural network that transforms a hidden state at a timestep into a probability distribution of the next character. \\[correspoding to the computation of $\\hat{\\boldsymbol y}^{(t)}$ in terms of the handout\\] "
      ]
    },
    {
      "cell_type": "markdown",
      "metadata": {
        "id": "KFm8g2pd8qLv"
      },
      "source": [
        "### Question 3.b\n",
        "Complete the implementation of the `forward` method of our model."
      ]
    },
    {
      "cell_type": "code",
      "metadata": {
        "deletable": false,
        "nbgrader": {
          "cell_type": "code",
          "checksum": "a9ad1239fcd5aec23f439249397895ec",
          "grade": false,
          "grade_id": "cell-1640492438386e87",
          "locked": false,
          "schema_version": 3,
          "solution": true,
          "task": false
        },
        "pycharm": {
          "is_executing": false
        },
        "id": "2SoCQ_ZM8qLv"
      },
      "source": [
        "import torch\n",
        "import torch.nn as nn\n",
        "from torch.autograd import Variable\n",
        "\n",
        "class OurModel(nn.Module):\n",
        "    def __init__(self, input_size, hidden_size, output_size, num_layers=1):\n",
        "        super(OurModel, self).__init__()\n",
        "        self.input_size = input_size\n",
        "        self.hidden_size = hidden_size\n",
        "        self.output_size = output_size\n",
        "        self.num_layers = num_layers\n",
        "        \n",
        "        self.embedding = nn.Embedding(input_size, hidden_size)  # In the terms of the handout, here d = D_h\n",
        "        self.gru = nn.GRU(hidden_size, hidden_size, num_layers)\n",
        "        self.output_layer = nn.Linear(hidden_size, output_size)\n",
        "    \n",
        "    def forward(self, input_, hidden):\n",
        "        # General instructions:\n",
        "        # Pass the embedded input through the GRU and use the output layer to get the next character distribution.\n",
        "        # return that distribution and the next hidden state.\n",
        "        # You may need to play around with the dimensions a bit until you get it right. Dimension-induced frustration is good for you!\n",
        "        # -------------------------\n",
        "        # YOUR CODE HERE\n",
        "        embedded_input = self.embedding(input_)\n",
        "        embedded_input=torch.reshape(embedded_input, shape=(1, 1, self.hidden_size))\n",
        "        output, hidden_n = self.gru(embedded_input, hidden)\n",
        "        output = self.output_layer(output)\n",
        "        output = torch.reshape(output, shape=(self.output_size,))\n",
        "        # -------------------------\n",
        "        return output, hidden_n\n",
        "\n",
        "    def init_hidden(self):\n",
        "        return Variable(torch.zeros(self.num_layers, 1, self.hidden_size))"
      ],
      "execution_count": 4,
      "outputs": []
    },
    {
      "cell_type": "markdown",
      "metadata": {
        "deletable": false,
        "editable": false,
        "nbgrader": {
          "cell_type": "markdown",
          "checksum": "da793a49917dc4882e7e70f04d07a777",
          "grade": false,
          "grade_id": "cell-b9299fddeb082b4e",
          "locked": true,
          "schema_version": 3,
          "solution": false,
          "task": false
        },
        "id": "aZWMbY1o8qLv"
      },
      "source": [
        "### Creating the Training Examples"
      ]
    },
    {
      "cell_type": "markdown",
      "metadata": {
        "deletable": false,
        "editable": false,
        "nbgrader": {
          "cell_type": "markdown",
          "checksum": "f6eaeb80c370b32f26eda2ac1be57444",
          "grade": false,
          "grade_id": "cell-83bf9e1b0374206c",
          "locked": true,
          "schema_version": 3,
          "solution": false,
          "task": false
        },
        "id": "B-ngTV6Q8qLv"
      },
      "source": [
        "Each chunk will be turned into a tensor by looping through the characters of the string and looking up the index of each character in `all_characters`."
      ]
    },
    {
      "cell_type": "code",
      "metadata": {
        "deletable": false,
        "editable": false,
        "nbgrader": {
          "cell_type": "code",
          "checksum": "cc87bca342db2fde1b3957f48bcfe857",
          "grade": false,
          "grade_id": "cell-5360afdd0b03b1f4",
          "locked": true,
          "schema_version": 3,
          "solution": false,
          "task": false
        },
        "pycharm": {
          "is_executing": false
        },
        "id": "98wyNtkw8qLv",
        "colab": {
          "base_uri": "https://localhost:8080/"
        },
        "outputId": "dbe8eb55-5c95-464e-f6fb-94275213f685"
      },
      "source": [
        "# Turn a string into list of longs\n",
        "def chars_to_tensor(string):\n",
        "    tensor = torch.zeros(len(string)).long()\n",
        "    for c in range(len(string)):\n",
        "        tensor[c] = all_characters.index(string[c])\n",
        "    return Variable(tensor)\n",
        "\n",
        "print(chars_to_tensor('abcDEF'))"
      ],
      "execution_count": 5,
      "outputs": [
        {
          "output_type": "stream",
          "name": "stdout",
          "text": [
            "tensor([10, 11, 12, 39, 40, 41])\n"
          ]
        }
      ]
    },
    {
      "cell_type": "markdown",
      "metadata": {
        "deletable": false,
        "editable": false,
        "nbgrader": {
          "cell_type": "markdown",
          "checksum": "f7fab2aa0d22a697fcc3d675b1821875",
          "grade": false,
          "grade_id": "cell-6e7b3d9e8c9396bb",
          "locked": true,
          "schema_version": 3,
          "solution": false,
          "task": false
        },
        "id": "cYh_R1K88qLv"
      },
      "source": [
        "Now we can assemble a pair of input and target tensors (i.e. a single training example) for training, from a random chunk. The input will be all characters *except the last*, and the target will be all characters *except the first*. So if our chunk is \"abc\" the input will correspond to \"ab\" while the target is \"bc\"."
      ]
    },
    {
      "cell_type": "code",
      "metadata": {
        "deletable": false,
        "editable": false,
        "nbgrader": {
          "cell_type": "code",
          "checksum": "adf90d7ec6728b2f45d1e8de5c47203c",
          "grade": false,
          "grade_id": "cell-d3539c5f1d96a188",
          "locked": true,
          "schema_version": 3,
          "solution": false,
          "task": false
        },
        "pycharm": {
          "is_executing": false
        },
        "id": "QFDYhW3a8qLv"
      },
      "source": [
        "def random_training_set():    \n",
        "    chunk = random_chunk()\n",
        "    inp = chars_to_tensor(chunk[:-1])\n",
        "    target = chars_to_tensor(chunk[1:])\n",
        "    return inp, target"
      ],
      "execution_count": 6,
      "outputs": []
    },
    {
      "cell_type": "markdown",
      "metadata": {
        "deletable": false,
        "editable": false,
        "nbgrader": {
          "cell_type": "markdown",
          "checksum": "18a6bf800d9bc590739b15ba01dda408",
          "grade": false,
          "grade_id": "cell-16d13f3b273395ac",
          "locked": true,
          "schema_version": 3,
          "solution": false,
          "task": false
        },
        "id": "eU6VTX8F8qLv"
      },
      "source": [
        "### Evaluating\n",
        "\n",
        "To evaluate the network we will feed one character at a time, use the outputs of the network as a probability distribution for the next character, and repeat. To start generation we pass a priming string to start building up the hidden state, from which we then generate one character at a time."
      ]
    },
    {
      "cell_type": "code",
      "metadata": {
        "deletable": false,
        "editable": false,
        "nbgrader": {
          "cell_type": "code",
          "checksum": "a47c721a818979b886f119401206e756",
          "grade": false,
          "grade_id": "cell-44ab27a8fee696ad",
          "locked": true,
          "schema_version": 3,
          "solution": false,
          "task": false
        },
        "pycharm": {
          "is_executing": false
        },
        "id": "xeoACNc78qLv"
      },
      "source": [
        "import torch.nn.functional as F\n",
        "\n",
        "def evaluate(prime_str='A', predict_len=100, temperature=0.8):\n",
        "    hidden = model.init_hidden()\n",
        "    prime_input = chars_to_tensor(prime_str)\n",
        "    predicted = prime_str\n",
        "\n",
        "    # Use priming string to \"build up\" hidden state\n",
        "    for p in range(len(prime_str) - 1):\n",
        "        _, hidden = model(prime_input[p], hidden)\n",
        "    inp = prime_input[-1]\n",
        "    \n",
        "    for p in range(predict_len):\n",
        "        output, hidden = model(inp, hidden)\n",
        "        \n",
        "        # Sample from the network as a multinomial distribution\n",
        "        output_dist =  F.softmax(output / temperature, dim=-1)\n",
        "        top_i = torch.multinomial(output_dist, 1)[0]\n",
        "        \n",
        "        # Add predicted character to string and use as next input\n",
        "        predicted_char = all_characters[top_i]\n",
        "        predicted += predicted_char\n",
        "        inp = chars_to_tensor(predicted_char)\n",
        "\n",
        "    return predicted"
      ],
      "execution_count": 7,
      "outputs": []
    },
    {
      "cell_type": "markdown",
      "metadata": {
        "deletable": false,
        "editable": false,
        "nbgrader": {
          "cell_type": "markdown",
          "checksum": "3fffa10554299eaae14cc007fea3935a",
          "grade": false,
          "grade_id": "cell-1d3fd015fe8f64d1",
          "locked": true,
          "schema_version": 3,
          "solution": false,
          "task": false
        },
        "id": "iNmsUvyM8qLv"
      },
      "source": [
        "### Training"
      ]
    },
    {
      "cell_type": "markdown",
      "metadata": {
        "deletable": false,
        "editable": false,
        "nbgrader": {
          "cell_type": "markdown",
          "checksum": "8a98218b35f47137eeba1ba1aead0700",
          "grade": false,
          "grade_id": "cell-a209b293a8850a57",
          "locked": true,
          "schema_version": 3,
          "solution": false,
          "task": false
        },
        "id": "AiCVg5Ec8qLv"
      },
      "source": [
        "The main training function"
      ]
    },
    {
      "cell_type": "code",
      "metadata": {
        "deletable": false,
        "editable": false,
        "nbgrader": {
          "cell_type": "code",
          "checksum": "eb3bfcd4d49b2f2672447d8c65b6cb05",
          "grade": false,
          "grade_id": "cell-e246cbd9689e1a6d",
          "locked": true,
          "schema_version": 3,
          "solution": false,
          "task": false
        },
        "pycharm": {
          "is_executing": false
        },
        "id": "Wug0q2Me8qLv"
      },
      "source": [
        "def train(inp, target):\n",
        "    hidden = model.init_hidden()\n",
        "    model.zero_grad()\n",
        "    loss = 0\n",
        "\n",
        "    for c in range(chunk_len):\n",
        "        output, hidden = model(inp[c], hidden)\n",
        "        #loss += criterion(output, target[c].view(-1))\n",
        "        loss += criterion(output, torch.zeros(output.shape).scatter(0, target[c].view(-1), 1))\n",
        "\n",
        "    loss.backward()\n",
        "    optimizer.step()\n",
        "\n",
        "    return loss.item() / chunk_len"
      ],
      "execution_count": 12,
      "outputs": []
    },
    {
      "cell_type": "markdown",
      "metadata": {
        "deletable": false,
        "editable": false,
        "nbgrader": {
          "cell_type": "markdown",
          "checksum": "bfb863e279db4b170c35d8d0c7a37a1f",
          "grade": false,
          "grade_id": "cell-05ce9b9275e0d1cc",
          "locked": true,
          "schema_version": 3,
          "solution": false,
          "task": false
        },
        "id": "hFBSiQqS8qLv"
      },
      "source": [
        "A helper to print the amount of time passed:"
      ]
    },
    {
      "cell_type": "code",
      "metadata": {
        "deletable": false,
        "editable": false,
        "nbgrader": {
          "cell_type": "code",
          "checksum": "16d7b53f211a6a1bef71c1dd2d1271cf",
          "grade": false,
          "grade_id": "cell-cb78afef7022f9a1",
          "locked": true,
          "schema_version": 3,
          "solution": false,
          "task": false
        },
        "pycharm": {
          "is_executing": false
        },
        "id": "vIzUAL-a8qLv"
      },
      "source": [
        "import time, math\n",
        "\n",
        "def time_since(since):\n",
        "    s = time.time() - since\n",
        "    m = math.floor(s / 60)\n",
        "    s -= m * 60\n",
        "    return f'{m}m {math.floor(s)}s'"
      ],
      "execution_count": 9,
      "outputs": []
    },
    {
      "cell_type": "code",
      "metadata": {
        "deletable": false,
        "editable": false,
        "nbgrader": {
          "cell_type": "code",
          "checksum": "2b368f1767ddd0eddca44249fa47ed32",
          "grade": true,
          "grade_id": "cell-98f46bec0b8c87cc",
          "locked": true,
          "points": 10,
          "schema_version": 3,
          "solution": false,
          "task": false
        },
        "id": "pAlXhasn8qLv"
      },
      "source": [
        "# DO NOT DELETE THIS CELL\n"
      ],
      "execution_count": 10,
      "outputs": []
    },
    {
      "cell_type": "markdown",
      "metadata": {
        "deletable": false,
        "editable": false,
        "nbgrader": {
          "cell_type": "markdown",
          "checksum": "98abd7dd7805753c2e7b635f1265cb73",
          "grade": false,
          "grade_id": "cell-baf25642209867dc",
          "locked": true,
          "schema_version": 3,
          "solution": false,
          "task": false
        },
        "id": "0Xva5o5I8qLv"
      },
      "source": [
        "Define the training parameters, instantiate the model, and start training:"
      ]
    },
    {
      "cell_type": "code",
      "metadata": {
        "deletable": false,
        "editable": false,
        "nbgrader": {
          "cell_type": "code",
          "checksum": "ab44452ad9f838e0b56e1fc154ab6125",
          "grade": false,
          "grade_id": "cell-4900f92ae503be69",
          "locked": true,
          "schema_version": 3,
          "solution": false,
          "task": false
        },
        "pycharm": {
          "is_executing": false
        },
        "id": "pRLHP-UQ8qLw",
        "colab": {
          "base_uri": "https://localhost:8080/"
        },
        "outputId": "bcc6a8cd-5563-4af7-bafe-57a4f39d86d1"
      },
      "source": [
        "n_epochs = 2000\n",
        "print_every = 100\n",
        "plot_every = 10\n",
        "hidden_size = 100  # (D_h from the handout)\n",
        "num_layers = 1\n",
        "lr = 0.005\n",
        "\n",
        "model = OurModel(n_characters, hidden_size, n_characters, num_layers)\n",
        "optimizer = torch.optim.Adam(model.parameters(), lr=lr)\n",
        "criterion = nn.CrossEntropyLoss()\n",
        "\n",
        "start = time.time()\n",
        "all_losses = []\n",
        "loss_avg = 0\n",
        "\n",
        "for epoch in range(1, n_epochs + 1):\n",
        "    loss = train(*random_training_set())\n",
        "    loss_avg += loss\n",
        "\n",
        "    if epoch % print_every == 0:\n",
        "        print(f'[time elapsed: {time_since(start)}  ;  epochs: {epoch} ({epoch / n_epochs * 100}%)  ;  loss: {loss:.4}]')\n",
        "        print(evaluate('Wh', 200), '\\n')  # generate text starting with 'Wh'\n",
        "\n",
        "    if epoch % plot_every == 0:\n",
        "        all_losses.append(loss_avg / plot_every)\n",
        "        loss_avg = 0"
      ],
      "execution_count": 13,
      "outputs": [
        {
          "output_type": "stream",
          "name": "stdout",
          "text": [
            "[time elapsed: 0m 40s  ;  epochs: 100 (5.0%)  ;  loss: 2.223]\n",
            "Whath on sit wit your to singe woon to best sopreed thigall is bill comath be bigy all coster.\n",
            "\n",
            "LUESSIO:\n",
            "Teadine,\n",
            "I,\n",
            "Theacer,\n",
            "And entuce nounger nout to to lavnente felist\n",
            "eny hicers mill onte to toive  \n",
            "\n",
            "[time elapsed: 1m 23s  ;  epochs: 200 (10.0%)  ;  loss: 2.049]\n",
            "Wher sirse for our the falachir thy ssthy or there ind in mone there sparis, bey silitis sthis lor tit you me the shin pray,\n",
            "Weary the rembrestiinse.\n",
            "\n",
            "HARY, Yy I Syou sase.\n",
            "\n",
            "KaIt the in like anterse bes \n",
            "\n",
            "[time elapsed: 2m 4s  ;  epochs: 300 (15.0%)  ;  loss: 1.878]\n",
            "Whing untod.\n",
            "\n",
            "LANA:\n",
            "There the seeft child mangurs hern be, gow I jongle so hadis of my my deards?\n",
            "\n",
            "JUCESTER:\n",
            "Wheace the of frowis soung beave dow shand\n",
            "And shall dous hese crise commeverlon\n",
            "And a com se \n",
            "\n",
            "[time elapsed: 2m 44s  ;  epochs: 400 (20.0%)  ;  loss: 1.899]\n",
            "Whed hage.\n",
            "Ofings man see his king timmow,\n",
            "And you them the do, has rly thim for him ands\n",
            "Hath everlnes. So that shim word your, so of him.\n",
            "\n",
            "DUESCINGABBENC:\n",
            "Of etaung the thous the will him, knot my wit \n",
            "\n",
            "[time elapsed: 3m 25s  ;  epochs: 500 (25.0%)  ;  loss: 1.718]\n",
            "What the rie hould your.\n",
            "\n",
            "PELLO:\n",
            "Thee, whink all promble on froves in linglist but thepuringet:\n",
            "\n",
            "SCIII:\n",
            "Cura them noto, sto, we to dow, they for mustent I wear to girs sal\n",
            "vith ownes; ine coness, thou f \n",
            "\n",
            "[time elapsed: 4m 7s  ;  epochs: 600 (30.0%)  ;  loss: 1.721]\n",
            "Where, thou thy, no man the pleptay,\n",
            "Where upon 'tyed it to your's bed frowow ny\n",
            "Golk 'lance may armer tlaule's the cone.\n",
            "\n",
            "KING Richame\n",
            "For whion my oo a bed\n",
            "So take wither sthese thy id bespay,\n",
            "Stelven \n",
            "\n",
            "[time elapsed: 4m 49s  ;  epochs: 700 (35.0%)  ;  loss: 1.956]\n",
            "Whou the in Then have suck and whict we the rofets well that the\n",
            "feer some so! of love sele to sell I gan buse see the are so;\n",
            "So must baus sillfieforend the\n",
            "me for was his have it hears will hath brope \n",
            "\n",
            "[time elapsed: 5m 31s  ;  epochs: 800 (40.0%)  ;  loss: 1.786]\n",
            "What: well the dear,\n",
            "I we him!\n",
            "\n",
            "KING ARK:\n",
            "Nurs, of come nowen the whous,\n",
            "The day thy dother hath, say the of the show him wesch\n",
            "And sane a browal have were uptress.\n",
            "\n",
            "LALUNTHUMS:\n",
            "He were ward we nots pot \n",
            "\n",
            "[time elapsed: 6m 11s  ;  epochs: 900 (45.0%)  ;  loss: 1.949]\n",
            "Whe in\n",
            "And heaves a prepon verm come.\n",
            "\n",
            "Graty makissed not beno;\n",
            "And leasot livous my wholl the to the\n",
            "Vuntain me in all the wire the pered the oram\n",
            "The him and heart I truadwer well on my\n",
            "our your will  \n",
            "\n",
            "[time elapsed: 6m 51s  ;  epochs: 1000 (50.0%)  ;  loss: 1.829]\n",
            "Wherest int though out\n",
            "To have the comman on the keaven, shall so good\n",
            "That was the in houst be cange, unteth, should with the quiets!\n",
            "That all on this him.\n",
            "The so stentleman by the madied inst\n",
            "Is queet \n",
            "\n",
            "[time elapsed: 7m 32s  ;  epochs: 1100 (55.00000000000001%)  ;  loss: 1.926]\n",
            "Wher love so to not pale his the king peaster,\n",
            "And I she for that werly arister!\n",
            "From I lad s Mond leave my forgether me me,\n",
            "ATwam that a in to more suppy that\n",
            "Bemay lord as read mine, a may the to the  \n",
            "\n",
            "[time elapsed: 8m 13s  ;  epochs: 1200 (60.0%)  ;  loss: 1.316]\n",
            "Which, meths this\n",
            "Butts he daughty mation, whend,\n",
            "So me not.\n",
            "\n",
            "GLOUCESTER:\n",
            "And for these with carthould of thought the gray, bet it man;\n",
            "This of the claster'd my breather, there ream is the song.\n",
            "\n",
            "FLOP:\n",
            " \n",
            "\n",
            "[time elapsed: 8m 56s  ;  epochs: 1300 (65.0%)  ;  loss: 1.838]\n",
            "Whom her father true.\n",
            "\n",
            "O, I cander, her detweath portes of speak:\n",
            "that her have and with perses it is cobal\n",
            "Sand long it for ation. Comence, is father upble's hears and your creet,\n",
            "A day in three, fielo \n",
            "\n",
            "[time elapsed: 9m 37s  ;  epochs: 1400 (70.0%)  ;  loss: 1.623]\n",
            "Where his passed.\n",
            "\n",
            "GLOUCESTER:\n",
            "Comeraf' your man thy lave to gentend Paked,\n",
            "That young to be hightrock a to oneds\n",
            "That but is lett the good mash art his save they lieg-\n",
            "And more the norcuble, this thee  \n",
            "\n",
            "[time elapsed: 10m 17s  ;  epochs: 1500 (75.0%)  ;  loss: 1.718]\n",
            "Which the shall they shall the would Cleadinon,\n",
            "In the Clides to the daons wills\n",
            "Ind thy sons; stous'st the sumblace: shapt these with the tword:\n",
            "To ty freathens, thy hike the many tasker that dids' qui \n",
            "\n",
            "[time elapsed: 10m 58s  ;  epochs: 1600 (80.0%)  ;  loss: 1.533]\n",
            "Which, I last stand\n",
            "His like you wold we ack in shall no cuger hand the day to her have\n",
            "Than the ad not to perous good; my constain thast to yeast crackarding and to content me.\n",
            "\n",
            "DUCHIES:\n",
            "Be he a cite o \n",
            "\n",
            "[time elapsed: 11m 39s  ;  epochs: 1700 (85.0%)  ;  loss: 1.771]\n",
            "When I have me;\n",
            "But nift thou offet and oun;\n",
            "She for thou offed your the find whing to-nour.\n",
            "\n",
            "TRANIO:\n",
            "Or bear out Imand your like intry dis farents.\n",
            "\n",
            "PETRUCHIO:\n",
            "That your Cour son,\n",
            "And is theren wiss fa \n",
            "\n",
            "[time elapsed: 12m 21s  ;  epochs: 1800 (90.0%)  ;  loss: 1.778]\n",
            "Where done, Waroud\n",
            "The king, and to many sorrokered, in reptice,\n",
            "Underer ding this tong, his danger otburt\n",
            "that the most stard, it longunist the should:\n",
            "Wate is he but be be is back, which the\n",
            "I counce  \n",
            "\n",
            "[time elapsed: 13m 3s  ;  epochs: 1900 (95.0%)  ;  loss: 1.636]\n",
            "When the had do the speak.\n",
            "\n",
            "ANGELO:\n",
            "Tell did his his his longs\n",
            "Oflow foul bestruch the dray, How his would you;\n",
            "And well ine and I my is rud,\n",
            "For'd, the were in this deserve hemb\n",
            "As the let story contor \n",
            "\n",
            "[time elapsed: 13m 43s  ;  epochs: 2000 (100.0%)  ;  loss: 1.653]\n",
            "What I am shall of the ento\n",
            "Which word than at not spy on make, she am\n",
            "What you.\n",
            "\n",
            "PROSPERO:\n",
            "Condous is long id stand courted friend,\n",
            "And of thy workn, to him word, be her thy state,\n",
            "Is what provegery lo \n",
            "\n"
          ]
        }
      ]
    },
    {
      "cell_type": "markdown",
      "metadata": {
        "deletable": false,
        "editable": false,
        "nbgrader": {
          "cell_type": "markdown",
          "checksum": "8584d3be75d90a5197e7133411e0021d",
          "grade": false,
          "grade_id": "cell-ff9d72dafefa0a23",
          "locked": true,
          "schema_version": 3,
          "solution": false,
          "task": false
        },
        "id": "dXeVkk298qLw"
      },
      "source": [
        "### Training Loss\n",
        "\n",
        "Plotting the the losses that were computed during training can provide a further indication that the network was indeed learning (Add your plot to the final submission pdf)."
      ]
    },
    {
      "cell_type": "code",
      "metadata": {
        "deletable": false,
        "editable": false,
        "nbgrader": {
          "cell_type": "code",
          "checksum": "357a8a13a77f5e3b3e336e022dc596d4",
          "grade": false,
          "grade_id": "cell-f91bb597844b8f7d",
          "locked": true,
          "schema_version": 3,
          "solution": false,
          "task": false
        },
        "pycharm": {
          "is_executing": false
        },
        "id": "S2SZanbV8qLw",
        "colab": {
          "base_uri": "https://localhost:8080/",
          "height": 467
        },
        "outputId": "b5afbc7b-ff13-4277-cf53-4acfb87e2a15"
      },
      "source": [
        "import matplotlib.pyplot as plt\n",
        "%matplotlib inline\n",
        "\n",
        "plt.grid(True)\n",
        "plt.xlabel('# of epochs (divided by plot_every)')\n",
        "plt.ylabel('average loss')\n",
        "plt.plot(all_losses)"
      ],
      "execution_count": 14,
      "outputs": [
        {
          "output_type": "execute_result",
          "data": {
            "text/plain": [
              "[<matplotlib.lines.Line2D at 0x7f1262d75090>]"
            ]
          },
          "metadata": {},
          "execution_count": 14
        },
        {
          "output_type": "display_data",
          "data": {
            "text/plain": [
              "<Figure size 640x480 with 1 Axes>"
            ],
            "image/png": "[encoded data removed]"
          },
          "metadata": {}
        }
      ]
    },
    {
      "cell_type": "markdown",
      "source": [
        "Question 4: Preplexity"
      ],
      "metadata": {
        "id": "yAPWWPdHINWi"
      }
    },
    {
      "cell_type": "code",
      "source": [
        "def load_file_dataset(path_to_file = 'shakespeare_for_perplexity.txt'):\n",
        "  with open(path_to_file) as f:\n",
        "    contents = f.readlines()\n",
        "  contents = ''.join(contents) \n",
        "  test_dataset_as_string = unidecode.unidecode(contents)\n",
        "  test_dataset_as_tensor = chars_to_tensor(test_dataset_as_string)\n",
        "  return test_dataset_as_tensor, test_dataset_as_string, len(test_dataset_as_string)\n",
        "\n",
        "#print(load_file_dataset())\n",
        "\n",
        "def calculate_test_ppl(path_to_file='shakespeare_for_perplexity.txt', temperature=0.8, compute_using_opt_1 = True):\n",
        "  test_dataset_as_tensor, test_dataset_as_string, m = load_file_dataset(path_to_file)\n",
        "  # We will \"slide\" over the test-text (with window 1, as this is the model sequance length) and calculate the probability\n",
        "  # of the model to output the target-next-charcter.\n",
        "  nlls = []\n",
        "  hidden = model.init_hidden()\n",
        "  for i in range(m):\n",
        "    inp = test_dataset_as_tensor[i-1].reshape(1)\n",
        "    # Fed to the model to get distribution \n",
        "    output, hidden = model(inp, hidden)\n",
        "    # Calculate -log P(s_i) and save it in nlls. This is the same, but different implementation.\n",
        "    if compute_using_opt_1:\n",
        "      # Implemet 1: using the loss \n",
        "      loss = criterion(output/ temperature, torch.zeros(output.shape).scatter(0, test_dataset_as_tensor[i].view(-1), 1))\n",
        "      nlls.append(loss)\n",
        "    else:\n",
        "      # Implemet 2: using the softmax distribution\n",
        "      output_dist =  F.softmax(output / temperature, dim=-1)\n",
        "      target_ind = all_characters.index(test_dataset_as_string[i])\n",
        "      prob_s_i = output_dist[target_ind]\n",
        "      nlls.append(-torch.log(prob_s_i))\n",
        "  ppl = torch.exp(torch.stack(nlls).mean())\n",
        "  return ppl\n"
      ],
      "metadata": {
        "id": "8aeFPKxrIOPi"
      },
      "execution_count": 15,
      "outputs": []
    },
    {
      "cell_type": "code",
      "source": [
        "shakespeare_ppl = calculate_test_ppl('shakespeare_for_perplexity.txt')\n",
        "print(f'shakespeare_ppl: {round(shakespeare_ppl.item(), 2)}')"
      ],
      "metadata": {
        "colab": {
          "base_uri": "https://localhost:8080/"
        },
        "id": "p1SrtxEUP07G",
        "outputId": "d9803778-a620-40da-a07e-172f7540a74c"
      },
      "execution_count": 16,
      "outputs": [
        {
          "output_type": "stream",
          "name": "stdout",
          "text": [
            "shakespeare_ppl: 7.35\n"
          ]
        }
      ]
    },
    {
      "cell_type": "code",
      "source": [
        "wiki_ppl = calculate_test_ppl('/content/wikipedia_for_perplexity.txt')\n",
        "print(f'wikipedia_ppl: {round(wiki_ppl.item(), 2)}')"
      ],
      "metadata": {
        "colab": {
          "base_uri": "https://localhost:8080/"
        },
        "id": "3_b8qu65P3W0",
        "outputId": "94fe1bfb-8bd6-42ca-e727-1560b438cb9d"
      },
      "execution_count": 17,
      "outputs": [
        {
          "output_type": "stream",
          "name": "stdout",
          "text": [
            "wikipedia_ppl: 18.52\n"
          ]
        }
      ]
    }
  ]
}